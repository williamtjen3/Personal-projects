{
 "metadata": {
  "language_info": {
   "codemirror_mode": {
    "name": "ipython",
    "version": 3
   },
   "file_extension": ".py",
   "mimetype": "text/x-python",
   "name": "python",
   "nbconvert_exporter": "python",
   "pygments_lexer": "ipython3",
   "version": "3.8.5"
  },
  "orig_nbformat": 2,
  "kernelspec": {
   "name": "python3",
   "display_name": "Python 3.8.5 64-bit"
  },
  "interpreter": {
   "hash": "1bbaea79b34c23d98f4c74d9570da854fa03bc21e150365b18b07b84079608f8"
  }
 },
 "nbformat": 4,
 "nbformat_minor": 2,
 "cells": [
  {
   "cell_type": "code",
   "execution_count": 2,
   "metadata": {},
   "outputs": [],
   "source": [
    "import pandas as pd"
   ]
  },
  {
   "cell_type": "code",
   "execution_count": 5,
   "metadata": {},
   "outputs": [
    {
     "output_type": "execute_result",
     "data": {
      "text/plain": [
       "           state state_abbreviation                county        fips  \\\n",
       "0        Vermont                 VT                Sutton  95000197.0   \n",
       "1        Vermont                 VT             Tunbridge  95000204.0   \n",
       "2        Vermont                 VT         Weathersfield  95000220.0   \n",
       "3        Vermont                 VT                Weston  95000228.0   \n",
       "4        Vermont                 VT               Whiting  95000233.0   \n",
       "...          ...                ...                   ...         ...   \n",
       "24606  Wisconsin                 WI                Racine     55101.0   \n",
       "24607  Wisconsin                 WI                  Rusk     55107.0   \n",
       "24608  Wisconsin                 WI                Sawyer     55113.0   \n",
       "24609    Wyoming                 WY                Weston     56045.0   \n",
       "24610    Wyoming                 WY  Hot Springs-Washakie  95600030.0   \n",
       "\n",
       "            party       candidate  votes  fraction_votes  \n",
       "0      Republican     John Kasich     20           0.227  \n",
       "1      Republican     John Kasich     36           0.319  \n",
       "2      Republican        Ted Cruz     46           0.111  \n",
       "3      Republican     John Kasich     32           0.471  \n",
       "4      Republican      Ben Carson      0           0.000  \n",
       "...           ...             ...    ...             ...  \n",
       "24606  Republican    Donald Trump  11756           0.321  \n",
       "24607  Republican        Ted Cruz   1339           0.410  \n",
       "24608  Republican    Donald Trump   2034           0.539  \n",
       "24609    Democrat  Bernie Sanders      1           0.500  \n",
       "24610  Republican    Donald Trump      0           0.000  \n",
       "\n",
       "[24611 rows x 8 columns]"
      ],
      "text/html": "<div>\n<style scoped>\n    .dataframe tbody tr th:only-of-type {\n        vertical-align: middle;\n    }\n\n    .dataframe tbody tr th {\n        vertical-align: top;\n    }\n\n    .dataframe thead th {\n        text-align: right;\n    }\n</style>\n<table border=\"1\" class=\"dataframe\">\n  <thead>\n    <tr style=\"text-align: right;\">\n      <th></th>\n      <th>state</th>\n      <th>state_abbreviation</th>\n      <th>county</th>\n      <th>fips</th>\n      <th>party</th>\n      <th>candidate</th>\n      <th>votes</th>\n      <th>fraction_votes</th>\n    </tr>\n  </thead>\n  <tbody>\n    <tr>\n      <th>0</th>\n      <td>Vermont</td>\n      <td>VT</td>\n      <td>Sutton</td>\n      <td>95000197.0</td>\n      <td>Republican</td>\n      <td>John Kasich</td>\n      <td>20</td>\n      <td>0.227</td>\n    </tr>\n    <tr>\n      <th>1</th>\n      <td>Vermont</td>\n      <td>VT</td>\n      <td>Tunbridge</td>\n      <td>95000204.0</td>\n      <td>Republican</td>\n      <td>John Kasich</td>\n      <td>36</td>\n      <td>0.319</td>\n    </tr>\n    <tr>\n      <th>2</th>\n      <td>Vermont</td>\n      <td>VT</td>\n      <td>Weathersfield</td>\n      <td>95000220.0</td>\n      <td>Republican</td>\n      <td>Ted Cruz</td>\n      <td>46</td>\n      <td>0.111</td>\n    </tr>\n    <tr>\n      <th>3</th>\n      <td>Vermont</td>\n      <td>VT</td>\n      <td>Weston</td>\n      <td>95000228.0</td>\n      <td>Republican</td>\n      <td>John Kasich</td>\n      <td>32</td>\n      <td>0.471</td>\n    </tr>\n    <tr>\n      <th>4</th>\n      <td>Vermont</td>\n      <td>VT</td>\n      <td>Whiting</td>\n      <td>95000233.0</td>\n      <td>Republican</td>\n      <td>Ben Carson</td>\n      <td>0</td>\n      <td>0.000</td>\n    </tr>\n    <tr>\n      <th>...</th>\n      <td>...</td>\n      <td>...</td>\n      <td>...</td>\n      <td>...</td>\n      <td>...</td>\n      <td>...</td>\n      <td>...</td>\n      <td>...</td>\n    </tr>\n    <tr>\n      <th>24606</th>\n      <td>Wisconsin</td>\n      <td>WI</td>\n      <td>Racine</td>\n      <td>55101.0</td>\n      <td>Republican</td>\n      <td>Donald Trump</td>\n      <td>11756</td>\n      <td>0.321</td>\n    </tr>\n    <tr>\n      <th>24607</th>\n      <td>Wisconsin</td>\n      <td>WI</td>\n      <td>Rusk</td>\n      <td>55107.0</td>\n      <td>Republican</td>\n      <td>Ted Cruz</td>\n      <td>1339</td>\n      <td>0.410</td>\n    </tr>\n    <tr>\n      <th>24608</th>\n      <td>Wisconsin</td>\n      <td>WI</td>\n      <td>Sawyer</td>\n      <td>55113.0</td>\n      <td>Republican</td>\n      <td>Donald Trump</td>\n      <td>2034</td>\n      <td>0.539</td>\n    </tr>\n    <tr>\n      <th>24609</th>\n      <td>Wyoming</td>\n      <td>WY</td>\n      <td>Weston</td>\n      <td>56045.0</td>\n      <td>Democrat</td>\n      <td>Bernie Sanders</td>\n      <td>1</td>\n      <td>0.500</td>\n    </tr>\n    <tr>\n      <th>24610</th>\n      <td>Wyoming</td>\n      <td>WY</td>\n      <td>Hot Springs-Washakie</td>\n      <td>95600030.0</td>\n      <td>Republican</td>\n      <td>Donald Trump</td>\n      <td>0</td>\n      <td>0.000</td>\n    </tr>\n  </tbody>\n</table>\n<p>24611 rows × 8 columns</p>\n</div>"
     },
     "metadata": {},
     "execution_count": 5
    }
   ],
   "source": [
    "election_results = pd.read_csv('us-2016-primary-results.csv', delimiter=\";\")\n",
    "election_results"
   ]
  },
  {
   "cell_type": "code",
   "execution_count": 7,
   "metadata": {},
   "outputs": [
    {
     "output_type": "execute_result",
     "data": {
      "text/plain": [
       "               State  ST   Fips                           County  Precincts  \\\n",
       "0             Alaska  AK   2100           Haines Borough, Alaska        NaN   \n",
       "1           Nebraska  NE  31145      Red Willow County, Nebraska       13.0   \n",
       "2         California  CA   6015     Del Norte County, California       18.0   \n",
       "3            Florida  FL  12031            Duval County, Florida      199.0   \n",
       "4             Kansas  KS  20053         Ellsworth County, Kansas       25.0   \n",
       "...              ...  ..    ...                              ...        ...   \n",
       "3138       Tennessee  TN  47131          Obion County, Tennessee       12.0   \n",
       "3139        Michigan  MI  26099          Macomb County, Michigan      337.0   \n",
       "3140   West Virginia  WV  54007    Braxton County, West Virginia       18.0   \n",
       "3141  North Carolina  NC  37121  Mitchell County, North Carolina        9.0   \n",
       "3142        Maryland  MD  24019      Dorchester County, Maryland       39.0   \n",
       "\n",
       "         Votes  Democrats 08 (Votes)  Democrats 12 (Votes)  \\\n",
       "0          NaN                   NaN                   NaN   \n",
       "1       5061.0                1216.0                 952.0   \n",
       "2       9361.0                4323.0                3791.0   \n",
       "3     428734.0              202618.0              196737.0   \n",
       "4       2626.0                 851.0                 702.0   \n",
       "...        ...                   ...                   ...   \n",
       "3138   12223.0                4308.0                3321.0   \n",
       "3139  418773.0              223784.0              208016.0   \n",
       "3140    5063.0                2704.0                1998.0   \n",
       "3141    7948.0                2238.0                1838.0   \n",
       "3142   14034.0                6912.0                7257.0   \n",
       "\n",
       "      Republicans 08 (Votes)  Republicans 12 (Votes)  ...   total08   total12  \\\n",
       "0                        NaN                     NaN  ...       NaN       NaN   \n",
       "1                     3735.0                  3891.0  ...    5044.0    4936.0   \n",
       "2                     4967.0                  4614.0  ...    9531.0    8770.0   \n",
       "3                   210537.0                211615.0  ...  415761.0  411848.0   \n",
       "4                     2021.0                  1930.0  ...    2938.0    2712.0   \n",
       "...                      ...                     ...  ...       ...       ...   \n",
       "3138                  8873.0                  8814.0  ...   13392.0   12297.0   \n",
       "3139                187663.0                191913.0  ...  419216.0  404086.0   \n",
       "3140                  2629.0                  2725.0  ...    5409.0    4804.0   \n",
       "3141                  5499.0                  5806.0  ...    7846.0    7765.0   \n",
       "3142                  8168.0                  7976.0  ...   15274.0   15444.0   \n",
       "\n",
       "      other08  other12  Other12 Frac  Other08 Frac  Rep12 Frac2  Rep08 Frac2  \\\n",
       "0         NaN      NaN           NaN           NaN          NaN          NaN   \n",
       "1        93.0     93.0      0.018841      0.018438     0.803428     0.754393   \n",
       "2       241.0    365.0      0.041619      0.025286     0.548959     0.534661   \n",
       "3      2606.0   3496.0      0.008489      0.006268     0.518217     0.509584   \n",
       "4        66.0     80.0      0.029499      0.022464     0.733283     0.703691   \n",
       "...       ...      ...           ...           ...          ...          ...   \n",
       "3138    211.0    162.0      0.013174      0.015756     0.726329     0.673166   \n",
       "3139   7769.0   4157.0      0.010287      0.018532     0.479868     0.456105   \n",
       "3140     76.0     81.0      0.016861      0.014051     0.576964     0.492968   \n",
       "3141    109.0    121.0      0.015583      0.013892     0.759550     0.710741   \n",
       "3142    194.0    211.0      0.013662      0.012701     0.523600     0.541645   \n",
       "\n",
       "      Dem12 Frac2  Dem08 Frac2  \n",
       "0             NaN          NaN  \n",
       "1        0.196572     0.245607  \n",
       "2        0.451041     0.465339  \n",
       "3        0.481783     0.490416  \n",
       "4        0.266717     0.296309  \n",
       "...           ...          ...  \n",
       "3138     0.273671     0.326834  \n",
       "3139     0.520132     0.543895  \n",
       "3140     0.423036     0.507032  \n",
       "3141     0.240450     0.289259  \n",
       "3142     0.476400     0.458355  \n",
       "\n",
       "[3143 rows x 159 columns]"
      ],
      "text/html": "<div>\n<style scoped>\n    .dataframe tbody tr th:only-of-type {\n        vertical-align: middle;\n    }\n\n    .dataframe tbody tr th {\n        vertical-align: top;\n    }\n\n    .dataframe thead th {\n        text-align: right;\n    }\n</style>\n<table border=\"1\" class=\"dataframe\">\n  <thead>\n    <tr style=\"text-align: right;\">\n      <th></th>\n      <th>State</th>\n      <th>ST</th>\n      <th>Fips</th>\n      <th>County</th>\n      <th>Precincts</th>\n      <th>Votes</th>\n      <th>Democrats 08 (Votes)</th>\n      <th>Democrats 12 (Votes)</th>\n      <th>Republicans 08 (Votes)</th>\n      <th>Republicans 12 (Votes)</th>\n      <th>...</th>\n      <th>total08</th>\n      <th>total12</th>\n      <th>other08</th>\n      <th>other12</th>\n      <th>Other12 Frac</th>\n      <th>Other08 Frac</th>\n      <th>Rep12 Frac2</th>\n      <th>Rep08 Frac2</th>\n      <th>Dem12 Frac2</th>\n      <th>Dem08 Frac2</th>\n    </tr>\n  </thead>\n  <tbody>\n    <tr>\n      <th>0</th>\n      <td>Alaska</td>\n      <td>AK</td>\n      <td>2100</td>\n      <td>Haines Borough, Alaska</td>\n      <td>NaN</td>\n      <td>NaN</td>\n      <td>NaN</td>\n      <td>NaN</td>\n      <td>NaN</td>\n      <td>NaN</td>\n      <td>...</td>\n      <td>NaN</td>\n      <td>NaN</td>\n      <td>NaN</td>\n      <td>NaN</td>\n      <td>NaN</td>\n      <td>NaN</td>\n      <td>NaN</td>\n      <td>NaN</td>\n      <td>NaN</td>\n      <td>NaN</td>\n    </tr>\n    <tr>\n      <th>1</th>\n      <td>Nebraska</td>\n      <td>NE</td>\n      <td>31145</td>\n      <td>Red Willow County, Nebraska</td>\n      <td>13.0</td>\n      <td>5061.0</td>\n      <td>1216.0</td>\n      <td>952.0</td>\n      <td>3735.0</td>\n      <td>3891.0</td>\n      <td>...</td>\n      <td>5044.0</td>\n      <td>4936.0</td>\n      <td>93.0</td>\n      <td>93.0</td>\n      <td>0.018841</td>\n      <td>0.018438</td>\n      <td>0.803428</td>\n      <td>0.754393</td>\n      <td>0.196572</td>\n      <td>0.245607</td>\n    </tr>\n    <tr>\n      <th>2</th>\n      <td>California</td>\n      <td>CA</td>\n      <td>6015</td>\n      <td>Del Norte County, California</td>\n      <td>18.0</td>\n      <td>9361.0</td>\n      <td>4323.0</td>\n      <td>3791.0</td>\n      <td>4967.0</td>\n      <td>4614.0</td>\n      <td>...</td>\n      <td>9531.0</td>\n      <td>8770.0</td>\n      <td>241.0</td>\n      <td>365.0</td>\n      <td>0.041619</td>\n      <td>0.025286</td>\n      <td>0.548959</td>\n      <td>0.534661</td>\n      <td>0.451041</td>\n      <td>0.465339</td>\n    </tr>\n    <tr>\n      <th>3</th>\n      <td>Florida</td>\n      <td>FL</td>\n      <td>12031</td>\n      <td>Duval County, Florida</td>\n      <td>199.0</td>\n      <td>428734.0</td>\n      <td>202618.0</td>\n      <td>196737.0</td>\n      <td>210537.0</td>\n      <td>211615.0</td>\n      <td>...</td>\n      <td>415761.0</td>\n      <td>411848.0</td>\n      <td>2606.0</td>\n      <td>3496.0</td>\n      <td>0.008489</td>\n      <td>0.006268</td>\n      <td>0.518217</td>\n      <td>0.509584</td>\n      <td>0.481783</td>\n      <td>0.490416</td>\n    </tr>\n    <tr>\n      <th>4</th>\n      <td>Kansas</td>\n      <td>KS</td>\n      <td>20053</td>\n      <td>Ellsworth County, Kansas</td>\n      <td>25.0</td>\n      <td>2626.0</td>\n      <td>851.0</td>\n      <td>702.0</td>\n      <td>2021.0</td>\n      <td>1930.0</td>\n      <td>...</td>\n      <td>2938.0</td>\n      <td>2712.0</td>\n      <td>66.0</td>\n      <td>80.0</td>\n      <td>0.029499</td>\n      <td>0.022464</td>\n      <td>0.733283</td>\n      <td>0.703691</td>\n      <td>0.266717</td>\n      <td>0.296309</td>\n    </tr>\n    <tr>\n      <th>...</th>\n      <td>...</td>\n      <td>...</td>\n      <td>...</td>\n      <td>...</td>\n      <td>...</td>\n      <td>...</td>\n      <td>...</td>\n      <td>...</td>\n      <td>...</td>\n      <td>...</td>\n      <td>...</td>\n      <td>...</td>\n      <td>...</td>\n      <td>...</td>\n      <td>...</td>\n      <td>...</td>\n      <td>...</td>\n      <td>...</td>\n      <td>...</td>\n      <td>...</td>\n      <td>...</td>\n    </tr>\n    <tr>\n      <th>3138</th>\n      <td>Tennessee</td>\n      <td>TN</td>\n      <td>47131</td>\n      <td>Obion County, Tennessee</td>\n      <td>12.0</td>\n      <td>12223.0</td>\n      <td>4308.0</td>\n      <td>3321.0</td>\n      <td>8873.0</td>\n      <td>8814.0</td>\n      <td>...</td>\n      <td>13392.0</td>\n      <td>12297.0</td>\n      <td>211.0</td>\n      <td>162.0</td>\n      <td>0.013174</td>\n      <td>0.015756</td>\n      <td>0.726329</td>\n      <td>0.673166</td>\n      <td>0.273671</td>\n      <td>0.326834</td>\n    </tr>\n    <tr>\n      <th>3139</th>\n      <td>Michigan</td>\n      <td>MI</td>\n      <td>26099</td>\n      <td>Macomb County, Michigan</td>\n      <td>337.0</td>\n      <td>418773.0</td>\n      <td>223784.0</td>\n      <td>208016.0</td>\n      <td>187663.0</td>\n      <td>191913.0</td>\n      <td>...</td>\n      <td>419216.0</td>\n      <td>404086.0</td>\n      <td>7769.0</td>\n      <td>4157.0</td>\n      <td>0.010287</td>\n      <td>0.018532</td>\n      <td>0.479868</td>\n      <td>0.456105</td>\n      <td>0.520132</td>\n      <td>0.543895</td>\n    </tr>\n    <tr>\n      <th>3140</th>\n      <td>West Virginia</td>\n      <td>WV</td>\n      <td>54007</td>\n      <td>Braxton County, West Virginia</td>\n      <td>18.0</td>\n      <td>5063.0</td>\n      <td>2704.0</td>\n      <td>1998.0</td>\n      <td>2629.0</td>\n      <td>2725.0</td>\n      <td>...</td>\n      <td>5409.0</td>\n      <td>4804.0</td>\n      <td>76.0</td>\n      <td>81.0</td>\n      <td>0.016861</td>\n      <td>0.014051</td>\n      <td>0.576964</td>\n      <td>0.492968</td>\n      <td>0.423036</td>\n      <td>0.507032</td>\n    </tr>\n    <tr>\n      <th>3141</th>\n      <td>North Carolina</td>\n      <td>NC</td>\n      <td>37121</td>\n      <td>Mitchell County, North Carolina</td>\n      <td>9.0</td>\n      <td>7948.0</td>\n      <td>2238.0</td>\n      <td>1838.0</td>\n      <td>5499.0</td>\n      <td>5806.0</td>\n      <td>...</td>\n      <td>7846.0</td>\n      <td>7765.0</td>\n      <td>109.0</td>\n      <td>121.0</td>\n      <td>0.015583</td>\n      <td>0.013892</td>\n      <td>0.759550</td>\n      <td>0.710741</td>\n      <td>0.240450</td>\n      <td>0.289259</td>\n    </tr>\n    <tr>\n      <th>3142</th>\n      <td>Maryland</td>\n      <td>MD</td>\n      <td>24019</td>\n      <td>Dorchester County, Maryland</td>\n      <td>39.0</td>\n      <td>14034.0</td>\n      <td>6912.0</td>\n      <td>7257.0</td>\n      <td>8168.0</td>\n      <td>7976.0</td>\n      <td>...</td>\n      <td>15274.0</td>\n      <td>15444.0</td>\n      <td>194.0</td>\n      <td>211.0</td>\n      <td>0.013662</td>\n      <td>0.012701</td>\n      <td>0.523600</td>\n      <td>0.541645</td>\n      <td>0.476400</td>\n      <td>0.458355</td>\n    </tr>\n  </tbody>\n</table>\n<p>3143 rows × 159 columns</p>\n</div>"
     },
     "metadata": {},
     "execution_count": 7
    }
   ],
   "source": [
    "election_by_county = pd.read_csv('usa-2016-presidential-election-by-county.csv', delimiter=\";\")\n",
    "eelection_by_county"
   ]
  },
  {
   "cell_type": "code",
   "execution_count": 8,
   "metadata": {},
   "outputs": [
    {
     "output_type": "stream",
     "name": "stdout",
     "text": [
      "<class 'pandas.core.frame.DataFrame'>\nRangeIndex: 24611 entries, 0 to 24610\nData columns (total 8 columns):\n #   Column              Non-Null Count  Dtype  \n---  ------              --------------  -----  \n 0   state               24611 non-null  object \n 1   state_abbreviation  24611 non-null  object \n 2   county              24611 non-null  object \n 3   fips                24511 non-null  float64\n 4   party               24611 non-null  object \n 5   candidate           24611 non-null  object \n 6   votes               24611 non-null  int64  \n 7   fraction_votes      24611 non-null  float64\ndtypes: float64(2), int64(1), object(5)\nmemory usage: 1.5+ MB\n"
     ]
    }
   ],
   "source": [
    "election_results.info()"
   ]
  },
  {
   "cell_type": "code",
   "execution_count": 9,
   "metadata": {},
   "outputs": [
    {
     "output_type": "stream",
     "name": "stdout",
     "text": [
      "<class 'pandas.core.frame.DataFrame'>\nRangeIndex: 3143 entries, 0 to 3142\nColumns: 159 entries, State to Dem08 Frac2\ndtypes: float64(147), int64(2), object(10)\nmemory usage: 3.8+ MB\n"
     ]
    }
   ],
   "source": [
    "election_by_county.info()"
   ]
  }
 ]
}